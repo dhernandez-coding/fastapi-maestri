{
 "cells": [
  {
   "cell_type": "code",
   "execution_count": null,
   "id": "7d3d4417",
   "metadata": {},
   "outputs": [
    {
     "name": "stderr",
     "output_type": "stream",
     "text": [
      "/Users/diegohernandez/Library/Python/3.9/lib/python/site-packages/urllib3/__init__.py:35: NotOpenSSLWarning: urllib3 v2 only supports OpenSSL 1.1.1+, currently the 'ssl' module is compiled with 'LibreSSL 2.8.3'. See: https://github.com/urllib3/urllib3/issues/3020\n",
      "  warnings.warn(\n",
      "/Users/diegohernandez/Library/Python/3.9/lib/python/site-packages/tqdm/auto.py:21: TqdmWarning: IProgress not found. Please update jupyter and ipywidgets. See https://ipywidgets.readthedocs.io/en/stable/user_install.html\n",
      "  from .autonotebook import tqdm as notebook_tqdm\n",
      "/var/folders/xq/gclpc2_d3ql92h6tddvfwkjr0000gn/T/ipykernel_1453/2386061255.py:17: DeprecationWarning: `recreate_collection` method is deprecated and will be removed in the future. Use `collection_exists` to check collection existence and `create_collection` instead.\n",
      "  client.recreate_collection(\n"
     ]
    },
    {
     "name": "stdout",
     "output_type": "stream",
     "text": [
      "✅ Inserted 11 documents into Qdrant collection: maestri_knowledge\n"
     ]
    }
   ],
   "source": [
    "from qdrant_client import QdrantClient\n",
    "from qdrant_client.models import Distance, VectorParams, PointStruct\n",
    "from sentence_transformers import SentenceTransformer\n",
    "import uuid\n",
    "\n",
    "# Connect to Qdrant on your VPS\n",
    "client = QdrantClient(\n",
    "    host=\"vps.maestri.com.co\",\n",
    "    port=6333,\n",
    "    https=False\n",
    ")\n",
    "\n",
    "collection_name = \"maestri_knowledge\"\n",
    "embedding_size = 512  # for distiluse-base-multilingual-cased-v2\n",
    "\n",
    "# STEP 1: Recreate collection with correct vector size\n",
    "client.recreate_collection(\n",
    "    collection_name=collection_name,\n",
    "    vectors_config=VectorParams(size=embedding_size, distance=Distance.COSINE),\n",
    ")\n",
    "\n",
    "# STEP 2: Load model\n",
    "model = SentenceTransformer(\"distiluse-base-multilingual-cased-v2\")\n",
    "\n",
    "# STEP 3: Define business documents\n",
    "documents = [\n",
    "    {\"category\": \"contacto\", \"text\": \"Horarios: Lunes a Viernes de 10:00 A.M a 6:30 P.M. Sábados y domingos de 10:00 A.M a 6:00 P.M.\"},\n",
    "    {\"category\": \"contacto\", \"text\": \"Dirección: CRA 27A # 68-87 Bogotá DC Colombia. Email: josue.santamaria@maestri.co. Whatsapp: (1) 7328309 - (+57) 3154831517.\"},\n",
    "    {\"category\": \"nosotros\", \"text\": \"Maestri Milano es una boutique de vinos y alimentos gourmet que lleva a tu mesa una auténtica experiencia gastronómica a la italiana.\"},\n",
    "    {\"category\": \"nosotros\", \"text\": \"Desde 2019 producimos charcutería artesanal italiana en Colombia con estándares y recetas milenarias italianas.\"},\n",
    "    {\"category\": \"nosotros\", \"text\": \"Ofrecemos vinos de más de 40 denominaciones y 80 referencias exclusivas, junto a alimentos como Parmigiano Reggiano, trufa y aceite extra virgen.\"},\n",
    "    {\"category\": \"equipo\", \"text\": \"Riccardo Trentini – Sales & Finance\"},\n",
    "    {\"category\": \"equipo\", \"text\": \"Carlo Angius – Process Optimization & Markets\"},\n",
    "    {\"category\": \"equipo\", \"text\": \"Danilo Marotta – Administración y Producción\"},\n",
    "    {\"category\": \"equipo\", \"text\": \"Manuel Ghiddi – Maestro Charcutero\"},\n",
    "    {\"category\": \"productos\", \"text\": \"📦 [Placeholder] Aquí se agregarán descripciones de productos.\"},\n",
    "    {\"category\": \"recetas\", \"text\": \"📖 [Placeholder] Aquí se agregarán recetas italianas tradicionales.\"}\n",
    "]\n",
    "\n",
    "# STEP 4: Vectorize and insert into Qdrant\n",
    "points = []\n",
    "for doc in documents:\n",
    "    vector = model.encode(doc[\"text\"], convert_to_numpy=True, normalize_embeddings=True).tolist()\n",
    "    point_id = str(uuid.uuid4())\n",
    "    payload = {\n",
    "        \"text\": doc[\"text\"],\n",
    "        \"category\": doc[\"category\"]\n",
    "    }\n",
    "    points.append(PointStruct(id=point_id, vector=vector, payload=payload))\n",
    "\n",
    "client.upsert(collection_name=collection_name, points=points)\n",
    "\n",
    "print(f\"✅ Inserted {len(points)} documents into Qdrant collection: {collection_name}\")\n"
   ]
  }
 ],
 "metadata": {
  "kernelspec": {
   "display_name": "Python 3",
   "language": "python",
   "name": "python3"
  },
  "language_info": {
   "codemirror_mode": {
    "name": "ipython",
    "version": 3
   },
   "file_extension": ".py",
   "mimetype": "text/x-python",
   "name": "python",
   "nbconvert_exporter": "python",
   "pygments_lexer": "ipython3",
   "version": "3.9.6"
  }
 },
 "nbformat": 4,
 "nbformat_minor": 5
}
