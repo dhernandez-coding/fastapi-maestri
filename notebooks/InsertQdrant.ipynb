{
 "cells": [
  {
   "cell_type": "code",
   "execution_count": 1,
   "id": "7d3d4417",
   "metadata": {},
   "outputs": [
    {
     "name": "stderr",
     "output_type": "stream",
     "text": [
      "C:\\Users\\dhernandez\\AppData\\Local\\Temp\\ipykernel_31716\\529593442.py:30: DeprecationWarning: `recreate_collection` method is deprecated and will be removed in the future. Use `collection_exists` to check collection existence and `create_collection` instead.\n",
      "  client.recreate_collection(\n"
     ]
    },
    {
     "name": "stdout",
     "output_type": "stream",
     "text": [
      "✅ Inserted 13 documents into Qdrant collection: maestri_knowledge\n"
     ]
    }
   ],
   "source": [
    "import os\n",
    "import uuid\n",
    "import pandas as pd\n",
    "from qdrant_client import QdrantClient\n",
    "from qdrant_client.models import Distance, VectorParams, PointStruct\n",
    "from openai import OpenAI\n",
    "from dotenv import load_dotenv\n",
    "load_dotenv()\n",
    "\n",
    "\n",
    "# ✅ Assign the API key\n",
    "openai_api_key = os.getenv(\"OPENAI_API_KEY2\")\n",
    "\n",
    "# ✅ Use it here\n",
    "openai_client = OpenAI(\n",
    "    api_key=openai_api_key\n",
    ")\n",
    "\n",
    "# ✅ Qdrant setup\n",
    "client = QdrantClient(\n",
    "    host=\"vps.maestri.com.co\",\n",
    "    port=6333,\n",
    "    https=False\n",
    ")\n",
    "\n",
    "collection_name = \"maestri_knowledge\"\n",
    "embedding_size = 1536  # For OpenAI text-embedding-3-small model\n",
    "\n",
    "# ✅ Recreate Qdrant collection\n",
    "client.recreate_collection(\n",
    "    collection_name=collection_name,\n",
    "    vectors_config=VectorParams(size=embedding_size, distance=Distance.COSINE),\n",
    ")\n",
    "\n",
    "# ✅ Business documents\n",
    "documents = [\n",
    "    {\"category\": \"contacto\", \"text\": \"Horarios: Lunes a Viernes de 10:00 A.M a 6:30 P.M. Sábados y domingos de 10:00 A.M a 6:00 P.M.\"},\n",
    "    {\"category\": \"contacto\", \"text\": \"Dirección: CRA 27A # 68-87 Bogotá DC Colombia. Email: josue.santamaria@maestri.co. Whatsapp: (1) 7328309 - (+57) 3154831517.\"},\n",
    "    {\"category\": \"nosotros\", \"text\": \"Maestri Milano es una boutique de vinos y alimentos gourmet que lleva a tu mesa una auténtica experiencia gastronómica a la italiana.\"},\n",
    "    {\"category\": \"nosotros\", \"text\": \"Desde 2019 producimos charcutería artesanal italiana en Colombia con estándares y recetas milenarias italianas.\"},\n",
    "    {\"category\": \"nosotros\", \"text\": \"Ofrecemos vinos de más de 40 denominaciones y 80 referencias exclusivas, junto a alimentos como Parmigiano Reggiano, trufa y aceite extra virgen.\"},\n",
    "    {\"category\": \"descuentos\", \"text\": \"Ofrecemos descuentos por cantidad, 5% de descuento en compras de 6 botellas, 10% en compras de 12 botellas\"},\n",
    "    {\"category\": \"servicios\", \"text\": \"Ofrecemos servicios de catas de vino y charcutería, asesoría en selección de productos, y catering para eventos. Habla con un asesor para más información.\"},\n",
    "    {\n",
    "        \"category\": \"productos\",\n",
    "        \"text\": \"En Maestri Milano encontrarás una exclusiva selección de productos italianos gourmet: vinos importados y vinos de la casa, charcutería, quesos, pastas, trufas, galletas italianas, carnes curadas, panettone, alimentos gourmet, anchetas, cajas de regalo, cristalería y acceso al Maestri Wine Club. Cada producto ha sido cuidadosamente elegido para brindarte una experiencia auténtica y sofisticada.\"\n",
    "    },\n",
    "    {\n",
    "        \"category\": \"tiempo de entrega\",\n",
    "        \"text\": \"Ofrecemos dos opciones de envío: Envío normal por $8.000 con entrega entre 24 y 48 horas, o Envío express por $12.000 con entrega rápida entre 3 y 6 horas. Elige la opción que mejor se adapte a tu necesidad.\"\n",
    "    },\n",
    "    {\"category\": \"equipo\", \"text\": \"Riccardo Trentini – Sales & Finance\"},\n",
    "    {\"category\": \"equipo\", \"text\": \"Carlo Angius – Process Optimization & Markets\"},\n",
    "    {\"category\": \"equipo\", \"text\": \"Danilo Marotta – Administración y Producción\"},\n",
    "    {\"category\": \"equipo\", \"text\": \"Manuel Ghiddi – Maestro Charcutero\"}\n",
    "]\n",
    "\n",
    "# ✅ Prepare texts for batch embedding\n",
    "texts = [doc[\"text\"] for doc in documents]\n",
    "\n",
    "# ✅ Get embeddings from OpenAI\n",
    "response = openai_client.embeddings.create(\n",
    "    input=texts,\n",
    "    model=\"text-embedding-3-small\"\n",
    ")\n",
    "\n",
    "# ✅ Prepare points for Qdrant\n",
    "points = []\n",
    "for i, embedding_obj in enumerate(response.data):\n",
    "    vector = embedding_obj.embedding\n",
    "    point_id = str(uuid.uuid4())\n",
    "    payload = {\n",
    "        \"text\": documents[i][\"text\"],\n",
    "        \"category\": documents[i][\"category\"]\n",
    "    }\n",
    "    points.append(PointStruct(id=point_id, vector=vector, payload=payload))\n",
    "\n",
    "# ✅ Upsert into Qdrant\n",
    "client.upsert(collection_name=collection_name, points=points)\n",
    "\n",
    "print(f\"✅ Inserted {len(points)} documents into Qdrant collection: {collection_name}\")\n"
   ]
  }
 ],
 "metadata": {
  "kernelspec": {
   "display_name": "Python 3",
   "language": "python",
   "name": "python3"
  },
  "language_info": {
   "codemirror_mode": {
    "name": "ipython",
    "version": 3
   },
   "file_extension": ".py",
   "mimetype": "text/x-python",
   "name": "python",
   "nbconvert_exporter": "python",
   "pygments_lexer": "ipython3",
   "version": "3.11.9"
  }
 },
 "nbformat": 4,
 "nbformat_minor": 5
}
