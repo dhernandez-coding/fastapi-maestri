{
 "cells": [
  {
   "cell_type": "code",
   "execution_count": 1,
   "id": "ba68167d",
   "metadata": {},
   "outputs": [
    {
     "name": "stderr",
     "output_type": "stream",
     "text": [
      "/Users/diegohernandez/Library/Python/3.9/lib/python/site-packages/urllib3/__init__.py:35: NotOpenSSLWarning: urllib3 v2 only supports OpenSSL 1.1.1+, currently the 'ssl' module is compiled with 'LibreSSL 2.8.3'. See: https://github.com/urllib3/urllib3/issues/3020\n",
      "  warnings.warn(\n",
      "/Users/diegohernandez/Library/Python/3.9/lib/python/site-packages/tqdm/auto.py:21: TqdmWarning: IProgress not found. Please update jupyter and ipywidgets. See https://ipywidgets.readthedocs.io/en/stable/user_install.html\n",
      "  from .autonotebook import tqdm as notebook_tqdm\n"
     ]
    }
   ],
   "source": [
    "import pandas as pd\n",
    "from qdrant_client import QdrantClient\n",
    "from qdrant_client.models import Distance, VectorParams, PointStruct\n",
    "from sentence_transformers import SentenceTransformer\n",
    "from bs4 import BeautifulSoup\n",
    "import uuid"
   ]
  },
  {
   "cell_type": "code",
   "execution_count": 4,
   "id": "591a2750",
   "metadata": {},
   "outputs": [
    {
     "name": "stderr",
     "output_type": "stream",
     "text": [
      "/var/folders/xq/gclpc2_d3ql92h6tddvfwkjr0000gn/T/ipykernel_17171/2927026674.py:12: DeprecationWarning: `recreate_collection` method is deprecated and will be removed in the future. Use `collection_exists` to check collection existence and `create_collection` instead.\n",
      "  client.recreate_collection(\n"
     ]
    },
    {
     "name": "stdout",
     "output_type": "stream",
     "text": [
      "✅ Inserted 170 products into Qdrant collection: maestri_products\n"
     ]
    }
   ],
   "source": [
    "df = pd.read_csv(\"/Users/diegohernandez/Downloads/Maestri Milano - Products.csv\")\n",
    "\n",
    "# Clean columns\n",
    "df.columns = [col.strip().lower().replace(\" \", \"_\") for col in df.columns]\n",
    "\n",
    "# Connect to Qdrant\n",
    "client = QdrantClient(host=\"vps.maestri.com.co\", port=6333, https=False)\n",
    "collection_name = \"maestri_products\"\n",
    "embedding_size = 512\n",
    "\n",
    "# Recreate the collection\n",
    "client.recreate_collection(\n",
    "    collection_name=collection_name,\n",
    "    vectors_config=VectorParams(size=embedding_size, distance=Distance.COSINE),\n",
    ")\n",
    "\n",
    "# Vectorize the short text\n",
    "model = SentenceTransformer(\"distiluse-base-multilingual-cased-v2\")\n",
    "points = []\n",
    "\n",
    "def clean(text):\n",
    "    if pd.isna(text):\n",
    "        return \"\"\n",
    "    return str(text).strip()\n",
    "\n",
    "def strip_html(text):\n",
    "    return BeautifulSoup(text, \"html.parser\").get_text(separator=\" \", strip=True)\n",
    "\n",
    "for _, row in df.iterrows():\n",
    "    if pd.isna(row.get(\"published_on\")):\n",
    "        continue\n",
    "\n",
    "    product_name = clean(row.get(\"nombre\"))\n",
    "    bodega = clean(row.get(\"bodega\"))\n",
    "    region = clean(row.get(\"región\"))\n",
    "    tipo_raw = clean(row.get(\"tipo\"))\n",
    "    tipo = clean(f\"{tipo_raw}\") if tipo_raw else \"\"\n",
    "    maridaje1 = clean(row.get(\"maridaje_1\"))\n",
    "    maridaje2 = clean(row.get(\"maridaje_2\"))\n",
    "    maridaje = \" | \".join([m for m in [maridaje1, maridaje2] if m])\n",
    "    notas = clean(row.get(\"notas_de_cata\"))\n",
    "    descripcion_raw = clean(row.get(\"descripción\"))\n",
    "    descripcion = strip_html(descripcion_raw)\n",
    "    precio = clean(row.get(\"precio\"))\n",
    "\n",
    "    short_text_parts = [product_name, bodega, tipo, region, maridaje]\n",
    "    short_text = \" | \".join([part for part in short_text_parts if part])\n",
    "\n",
    "    if not short_text:\n",
    "        continue\n",
    "\n",
    "    vector = model.encode(short_text, convert_to_numpy=True, normalize_embeddings=True).tolist()\n",
    "\n",
    "    payload = {}\n",
    "    if product_name: payload[\"product_name\"] = product_name\n",
    "    if bodega: payload[\"bodega\"] = bodega\n",
    "    if region: payload[\"region\"] = region\n",
    "    if tipo: payload[\"tipo\"] = tipo\n",
    "    if precio: payload[\"precio\"] = precio\n",
    "    if notas: payload[\"notas\"] = notas\n",
    "    if descripcion: payload[\"descripcion\"] = descripcion\n",
    "    if maridaje: payload[\"maridaje\"] = maridaje\n",
    "\n",
    "    points.append(PointStruct(id=str(uuid.uuid4()), vector=vector, payload=payload))\n",
    "\n",
    "# Insert into Qdrant\n",
    "client.upsert(collection_name=collection_name, points=points)\n",
    "\n",
    "print(f\"✅ Inserted {len(points)} products into Qdrant collection: {collection_name}\")\n"
   ]
  },
  {
   "cell_type": "code",
   "execution_count": 19,
   "id": "bc4bfe30",
   "metadata": {},
   "outputs": [
    {
     "name": "stdout",
     "output_type": "stream",
     "text": [
      "Index(['nombre', 'slug', 'collection_id', 'locale_id', 'item_id', 'created_on',\n",
      "       'updated_on', 'published_on', 'precio', 'imagen_del_producto',\n",
      "       'categoria', 'descripción', 'maridaje_1', 'maridaje_2', 'notas_de_cata',\n",
      "       'temperatura_de_servicio', 'pasillo', 'tipo', 'región',\n",
      "       'cepa_principal', 'ocasión', 'bodega', 'denominación', 'peso_/_volumen',\n",
      "       'gr/ml', 'item_id', 'precio_descuento', 'categories', 'precios',\n",
      "       'descuento', 'descuento_2x1', 'descuento_3x2', 'ciudad',\n",
      "       'productoreserva', 'descuento%off'],\n",
      "      dtype='object')\n"
     ]
    }
   ],
   "source": [
    "print (df.columns)"
   ]
  }
 ],
 "metadata": {
  "kernelspec": {
   "display_name": "Python 3",
   "language": "python",
   "name": "python3"
  },
  "language_info": {
   "codemirror_mode": {
    "name": "ipython",
    "version": 3
   },
   "file_extension": ".py",
   "mimetype": "text/x-python",
   "name": "python",
   "nbconvert_exporter": "python",
   "pygments_lexer": "ipython3",
   "version": "3.9.6"
  }
 },
 "nbformat": 4,
 "nbformat_minor": 5
}
