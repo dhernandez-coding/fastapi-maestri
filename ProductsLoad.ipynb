{
 "cells": [
  {
   "cell_type": "code",
   "execution_count": 10,
   "id": "ba68167d",
   "metadata": {},
   "outputs": [],
   "source": [
    "import pandas as pd\n",
    "from qdrant_client import QdrantClient\n",
    "from qdrant_client.models import Distance, VectorParams, PointStruct\n",
    "from sentence_transformers import SentenceTransformer\n",
    "from bs4 import BeautifulSoup\n",
    "import uuid\n",
    "import os\n",
    "from openai import OpenAI\n",
    "from dotenv import load_dotenv\n",
    "load_dotenv()\n",
    "\n",
    "# ✅ Assign the API key\n",
    "openai_api_key = os.getenv(\"OPENAI_API_KEY\")\n",
    "\n",
    "# ✅ Use it here\n",
    "openai_client = OpenAI(\n",
    "    api_key=openai_api_key\n",
    ")"
   ]
  },
  {
   "cell_type": "code",
   "execution_count": null,
   "id": "591a2750",
   "metadata": {},
   "outputs": [
    {
     "name": "stderr",
     "output_type": "stream",
     "text": [
      "/var/folders/xq/gclpc2_d3ql92h6tddvfwkjr0000gn/T/ipykernel_30796/164065924.py:35: DeprecationWarning: `recreate_collection` method is deprecated and will be removed in the future. Use `collection_exists` to check collection existence and `create_collection` instead.\n",
      "  client.recreate_collection(\n"
     ]
    },
    {
     "name": "stdout",
     "output_type": "stream",
     "text": [
      "✅ Inserted 170 products into Qdrant collection: maestri_products\n"
     ]
    }
   ],
   "source": [
    "from qdrant_client import QdrantClient\n",
    "from qdrant_client.http.models import PointStruct, VectorParams, Distance\n",
    "from bs4 import BeautifulSoup\n",
    "import pandas as pd\n",
    "import uuid\n",
    "from openai import OpenAI # ✅ add openai import\n",
    "\n",
    "\n",
    "# Utility functions\n",
    "def clean(text):\n",
    "    if pd.isna(text): return \"\"\n",
    "    return str(text).strip()\n",
    "\n",
    "def strip_html(text):\n",
    "    return BeautifulSoup(text, \"html.parser\").get_text(separator=\" \", strip=True)\n",
    "\n",
    "\n",
    "def get_openai_embedding(text: str) -> list:\n",
    "    response = openai_client.embeddings.create(\n",
    "        model=\"text-embedding-3-small\",\n",
    "        input=text\n",
    "    )\n",
    "    return response.data[0].embedding\n",
    "\n",
    "# Load CSV\n",
    "df = pd.read_csv(\"/Users/diegohernandez/Downloads/Maestri Milano - Products.csv\")\n",
    "df.columns = [col.strip().lower().replace(\" \", \"_\") for col in df.columns]\n",
    "\n",
    "# Connect to Qdrant\n",
    "client = QdrantClient(host=\"qdrant.maestri.com.co\", port=6333, https=False)\n",
    "collection_name = \"maestri_products\"\n",
    "embedding_size = 1536  # ✅ OpenAI embedding size is 1536\n",
    "\n",
    "client.recreate_collection(\n",
    "    collection_name=collection_name,\n",
    "    vectors_config=VectorParams(size=embedding_size, distance=Distance.COSINE),\n",
    ")\n",
    "\n",
    "points = []\n",
    "\n",
    "for _, row in df.iterrows():\n",
    "    if pd.isna(row.get(\"published_on\")):\n",
    "        continue\n",
    "\n",
    "    product_name = clean(row.get(\"nombre\"))\n",
    "    bodega = clean(row.get(\"bodega\"))\n",
    "    region = clean(row.get(\"región\"))\n",
    "    tipo = clean(row.get(\"tipo\"))\n",
    "    maridaje1 = clean(row.get(\"maridaje_1\"))\n",
    "    maridaje2 = clean(row.get(\"maridaje_2\"))\n",
    "    maridaje = \" y \".join([m for m in [maridaje1, maridaje2] if m])\n",
    "    notas = clean(row.get(\"notas_de_cata\"))\n",
    "    descripcion = strip_html(clean(row.get(\"descripción\")))\n",
    "    precio = clean(row.get(\"precio\"))\n",
    "    category = clean(row.get(\"pasillo\"))\n",
    "    alternate_names = \"\"  # future improvements if needed\n",
    "\n",
    "    short_text = f\"\"\"\\\n",
    "Producto: {product_name}. Tipo: {tipo}. Bodega: {bodega}. Región: {region}.\n",
    "Maridaje: {maridaje}. Notas: {notas}. Descripción: {descripcion}.\n",
    "También conocido como: {alternate_names}. Precio: {precio}.\n",
    "\"\"\"\n",
    "\n",
    "    if not short_text.strip():\n",
    "        continue\n",
    "\n",
    "    # ✅ Now using OpenAI to generate the embedding\n",
    "    vector = get_openai_embedding(short_text)\n",
    "\n",
    "    payload = {\n",
    "        \"product_name\": product_name,\n",
    "        \"bodega\": bodega,\n",
    "        \"region\": region,\n",
    "        \"tipo\": tipo,\n",
    "        \"precio\": precio,\n",
    "        \"notas\": notas,\n",
    "        \"descripcion\": descripcion,\n",
    "        \"maridaje\": maridaje,\n",
    "        \"category\": category,\n",
    "        \"alternate_names\": alternate_names\n",
    "    }\n",
    "\n",
    "    points.append(PointStruct(id=str(uuid.uuid4()), vector=vector, payload=payload))\n",
    "\n",
    "# Insert into Qdrant\n",
    "client.upsert(collection_name=collection_name, points=points)\n",
    "print(f\"✅ Inserted {len(points)} products into Qdrant collection: {collection_name}\")\n"
   ]
  },
  {
   "cell_type": "code",
   "execution_count": null,
   "id": "dab884b4",
   "metadata": {},
   "outputs": [
    {
     "data": {
      "text/plain": [
       "Index(['nombre', 'slug', 'collection_id', 'locale_id', 'item_id', 'created_on',\n",
       "       'updated_on', 'published_on', 'precio', 'imagen_del_producto',\n",
       "       'categoria', 'descripción', 'maridaje_1', 'maridaje_2', 'notas_de_cata',\n",
       "       'temperatura_de_servicio', 'pasillo', 'tipo', 'región',\n",
       "       'cepa_principal', 'ocasión', 'bodega', 'denominación', 'peso_/_volumen',\n",
       "       'gr/ml', 'item_id', 'precio_descuento', 'categories', 'precios',\n",
       "       'descuento', 'descuento_2x1', 'descuento_3x2', 'ciudad',\n",
       "       'productoreserva', 'descuento%off'],\n",
       "      dtype='object')"
      ]
     },
     "execution_count": 4,
     "metadata": {},
     "output_type": "execute_result"
    }
   ],
   "source": [
    "df.columns"
   ]
  },
  {
   "cell_type": "code",
   "execution_count": null,
   "id": "bc4bfe30",
   "metadata": {},
   "outputs": [
    {
     "name": "stdout",
     "output_type": "stream",
     "text": [
      "\n",
      "🔍 Checking indexed Prosecco products by name:\n",
      "\n",
      "\n",
      "#1\n",
      "product_name: Prosecco Sior Piero\n",
      "bodega: V8+\n",
      "region: Veneto\n",
      "tipo: Espumoso\n",
      "precio: 115000.0\n",
      "notas: De un color pajizo brillante, burbujas finas y persistentes, aromas delicados que recuerdan notas Florales y frutales que recuerdan a la manzanilla, durazno, peras. En el paladar es fresco, elegante con una pequeña cantidad de azúcar residual que es balanceado por la acidez.\n",
      "descripcion: ELABORACIÓN DEL VINO   Después de la vendimia manual, la uva es separada de los raspones y son estrujadas suavemente. La fermentación toma lugar en tanques de acero inoxidable, a temperatura controlada para preservar los aromas. La segunda fermentación se lleva a cabo en autoclaves de acero por aproximadamente 35 días. VARIEDAD DE UVA Y ÁREA DE PRODUCCIÓN   Glera 100%. Los viñedos se encuentran en las colinas de Valdobbiadene, la patria del Prosecco, que son las burbujas más famosas de Italia. Aromas inconfundibles de este estilo de vino. La región es privilegiada por tener un clima único,\\npues tiene la influencia del mar adrático, y de las colinas prealpinas. Los viñedos generalmente están plantados con orientación al sur, que les confiere una mejor exposición solar. GRADUACIÓN ALCOHÓLICA   12,5% vol.\n",
      "maridaje: Pasta y Pizza y Postre\n",
      "category: Vinos\n",
      "alternate_names: \n",
      "\n",
      "#2\n",
      "product_name: Aspide + Prosecco\n",
      "bodega: Sior Sandro\n",
      "region: \n",
      "tipo: \n",
      "precio: 169000.0\n",
      "notas: \n",
      "descripcion: Combo Aperol Spritz Prosecco + Aspide\n",
      "maridaje: \n",
      "category: \n",
      "alternate_names: \n",
      "\n",
      "#3\n",
      "product_name: Prosecco Sior Sandro\n",
      "bodega: V8+\n",
      "region: Veneto\n",
      "tipo: Espumoso\n",
      "precio: 100000.0\n",
      "notas: De un color amarillo pálido, burbujas finas y persistentes, aromas que recuerdan a los frutos de hueso, durazno, albaricoque, florales, que recuerdan a la manzanilla. En el paladar es agradable y fresco.\n",
      "descripcion: ELABORACIÓN DEL VINO   Después de la vendimia manual, la uva es separada de los raspones y son estrujadas suavemente. La fermentación toma lugar en tanques de acero inoxidable, a temperatura controlada para preservar los aromas. La segunda fermentación se lleva a cabo en autoclaves de acero por aproximadamente 35 días. VARIEDAD DE UVA Y ÁREA DE PRODUCCIÓN   Glera 100%. Los viñedos se encuentran en las colinas de la región del véneto, en la zona del Prosecco. La región es privilegiada por tener un clima único, pues tiene la influencia del mar adrático, y de las colinas prealpinas. Los viñedos generalmente están plantados con orientación al sur, que les confiere una mejor exposición solar. GRADUACIÓN ALCOHÓLICA   12,5% vol\n",
      "maridaje: Pasta y Pizza y Postre\n",
      "category: Vinos\n",
      "alternate_names: \n"
     ]
    }
   ],
   "source": [
    "# Step 1 - Inspect products with \"prosecco\" in product_name\n",
    "print(\"\\n🔍 Checking indexed Prosecco products by name:\\n\")\n",
    "\n",
    "results, _ = client.scroll(\n",
    "    collection_name=collection_name,\n",
    "    limit=100,\n",
    "    with_payload=True\n",
    ")\n",
    "\n",
    "prosecco_items = [\n",
    "    r for r in results if \"prosecco\" in str(r.payload.get(\"product_name\", \"\")).lower()\n",
    "]\n",
    "\n",
    "if not prosecco_items:\n",
    "    print(\"❌ No Prosecco products found in product_name.\")\n",
    "else:\n",
    "    for i, item in enumerate(prosecco_items, 1):\n",
    "        print(f\"\\n#{i}\")\n",
    "        for k, v in item.payload.items():\n",
    "            print(f\"{k}: {v}\")\n"
   ]
  }
 ],
 "metadata": {
  "kernelspec": {
   "display_name": "Python 3",
   "language": "python",
   "name": "python3"
  },
  "language_info": {
   "codemirror_mode": {
    "name": "ipython",
    "version": 3
   },
   "file_extension": ".py",
   "mimetype": "text/x-python",
   "name": "python",
   "nbconvert_exporter": "python",
   "pygments_lexer": "ipython3",
   "version": "3.9.6"
  }
 },
 "nbformat": 4,
 "nbformat_minor": 5
}
